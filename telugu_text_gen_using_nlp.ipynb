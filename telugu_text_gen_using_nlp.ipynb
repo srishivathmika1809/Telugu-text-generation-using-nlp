{
 "cells": [
  {
   "cell_type": "code",
   "execution_count": 3,
   "metadata": {},
   "outputs": [
    {
     "name": "stdout",
     "output_type": "stream",
     "text": [
      "Example Telugu Document:\n",
      "<DOC>\n",
      "<DOCNO>129072017444933.utf8</DOCNO>\n",
      "<TEXT>\n",
      "\n",
      "29-07-2017 02:36:57\n",
      "\n",
      "గవర్నర్‌కు లోకాయుక్త నివేదిక\n",
      "\n",
      "హైదరాబాద్‌, జూలై 28(ఆంధ్రజ్యోతి): లోకాయుక్త 2016 సంవత్సరపు పనితీరు, విచారణ జరిపిన అంశాల నివేదికను తెలుగు రాష్ట్రాల గవర్నర్‌ నరసింహన్‌కు సమర్పించారు. శుక్రవారం గవర్నర్‌ను తెలుగు రాష్ట్రాల లోకాయుక్త జస్టిస్‌ బి.సుభాషణ్‌రెడ్డి కలిసి 32వ నివేదికను సమర్పించారు. 2016 ఏడాది లోకాయుక్త కార్యకలాపాలను ఇందులో పొందుపరిచారు. ప్రజాప్రయోజనాలు దెబ్బతీసేలా ప్రభుత్వాలు తీసుకున్న నిర్ణయాలపై కథనాల రూపంలో వచ్చిన అంశాలను సుమోటోగా స్వీకరించడం, ఫిర్యాదుల రూపంలో తీసుకునే ఆర్జీలపై తీర్పులు వెలువరించిన తీరు, వీటి అమలులో రాష్ట్ర ప్రభుత్వాలు ఎలా వ్యవహరించాయనే అంశంపై ఇద్దరి మధ్య చర్చ జరిగింది. మూడు వాల్యూమ్‌ల రిపోర్టులలో ఏపీ, తెలంగాణ ప్రభుత్వాలకు చెరో రిపోర్టు కాగా, ఒకటి గవర్నర్‌ వద్దే ఉంటుంది.\n",
      "</TEXT>\n",
      "</DOC>\n"
     ]
    }
   ],
   "source": [
    "import os\n",
    "import codecs\n",
    "\n",
    "# Function to load Telugu text from a directory\n",
    "def load_telugu_text(directory):\n",
    "    telugu_texts = []\n",
    "\n",
    "    # Traverse through the main directories (2017, 2018, 2019)\n",
    "    for year_folder in os.listdir(directory):\n",
    "        year_path = os.path.join(directory, year_folder)\n",
    "\n",
    "        # Traverse through subdirectories (categories)\n",
    "        for category_folder in os.listdir(year_path):\n",
    "            category_path = os.path.join(year_path, category_folder)\n",
    "\n",
    "            # Read Telugu text from .utf8 files\n",
    "            for file_name in os.listdir(category_path):\n",
    "                file_path = os.path.join(category_path, file_name)\n",
    "\n",
    "                # Assuming files are in .utf8 format\n",
    "                with codecs.open(file_path, 'r', encoding='utf-8') as file:\n",
    "                    telugu_text = file.read()\n",
    "                    telugu_texts.append(telugu_text)\n",
    "\n",
    "    return telugu_texts\n",
    "\n",
    "# Example: Load Telugu text from a specific directory\n",
    "directory_path = '/home/shiva/Downloads/NLP/dataset2'\n",
    "telugu_texts = load_telugu_text(directory_path)\n",
    "\n",
    "# Example: Print the first document\n",
    "print(\"Example Telugu Document:\")\n",
    "print(telugu_texts[0])\n"
   ]
  },
  {
   "cell_type": "code",
   "execution_count": 4,
   "metadata": {},
   "outputs": [
    {
     "name": "stdout",
     "output_type": "stream",
     "text": [
      "10821\n"
     ]
    }
   ],
   "source": [
    "print(len(telugu_texts))"
   ]
  },
  {
   "cell_type": "code",
   "execution_count": 5,
   "metadata": {},
   "outputs": [
    {
     "name": "stdout",
     "output_type": "stream",
     "text": [
      "Example Cleaned Telugu Document:\n",
      "          గవర్నర్‌కు లోకాయుక్త నివేదిక హైదరాబాద్‌  జూలై  ఆంధ్రజ్యోతి  లోకాయుక్త   సంవత్సరపు పనితీరు  విచారణ జరిపిన అంశాల నివేదికను తెలుగు రాష్ట్రాల గవర్నర్‌ నరసింహన్‌కు సమర్పించారు  శుక్రవారం గవర్నర్‌ను తెలుగు రాష్ట్రాల లోకాయుక్త జస్టిస్‌ బి సుభాషణ్‌రెడ్డి కలిసి  వ నివేదికను సమర్పించారు    ఏడాది లోకాయుక్త కార్యకలాపాలను ఇందులో పొందుపరిచారు  ప్రజాప్రయోజనాలు దెబ్బతీసేలా ప్రభుత్వాలు తీసుకున్న నిర్ణయాలపై కథనాల రూపంలో వచ్చిన అంశాలను సుమోటోగా స్వీకరించడం  ఫిర్యాదుల రూపంలో తీసుకునే ఆర్జీలపై తీర్పులు వెలువరించిన తీరు  వీటి అమలులో రాష్ట్ర ప్రభుత్వాలు ఎలా వ్యవహరించాయనే అంశంపై ఇద్దరి మధ్య చర్చ జరిగింది  మూడు వాల్యూమ్‌ల రిపోర్టులలో ఏపీ  తెలంగాణ ప్రభుత్వాలకు చెరో రిపోర్టు కాగా  ఒకటి గవర్నర్‌ వద్దే ఉంటుంది     \n"
     ]
    }
   ],
   "source": [
    "import re\n",
    "\n",
    "def clean_telugu_text(text):\n",
    "    # Remove English alphabets, <, >, /, numbers, :, ., -, and consecutive \\n\n",
    "    cleaned_text = re.sub(r'[a-zA-Z,().!?<>\\/0-9:\\\\-]+|\\n+', ' ', text)\n",
    "\n",
    "    return cleaned_text\n",
    "\n",
    "# Example: Clean the Telugu text in the corpus\n",
    "cleaned_telugu_texts = [clean_telugu_text(text) for text in telugu_texts]\n",
    "\n",
    "# Example: Print the cleaned text of the first document\n",
    "print(\"Example Cleaned Telugu Document:\")\n",
    "print(cleaned_telugu_texts[0])"
   ]
  },
  {
   "cell_type": "code",
   "execution_count": 6,
   "metadata": {},
   "outputs": [
    {
     "name": "stdout",
     "output_type": "stream",
     "text": [
      "Example Tokenized Telugu Document:\n",
      "['గవర్నర్\\u200cకు', 'లోకాయుక్త', 'నివేదిక', 'హైదరాబాద్\\u200c', 'జూలై', 'ఆంధ్రజ్యోతి', 'లోకాయుక్త', 'సంవత్సరపు', 'పనితీరు', 'విచారణ', 'జరిపిన', 'అంశాల', 'నివేదికను', 'తెలుగు', 'రాష్ట్రాల', 'గవర్నర్\\u200c', 'నరసింహన్\\u200cకు', 'సమర్పించారు', 'శుక్రవారం', 'గవర్నర్\\u200cను', 'తెలుగు', 'రాష్ట్రాల', 'లోకాయుక్త', 'జస్టిస్\\u200c', 'బి', 'సుభాషణ్\\u200cరెడ్డి', 'కలిసి', 'వ', 'నివేదికను', 'సమర్పించారు', 'ఏడాది', 'లోకాయుక్త', 'కార్యకలాపాలను', 'ఇందులో', 'పొందుపరిచారు', 'ప్రజాప్రయోజనాలు', 'దెబ్బతీసేలా', 'ప్రభుత్వాలు', 'తీసుకున్న', 'నిర్ణయాలపై', 'కథనాల', 'రూపంలో', 'వచ్చిన', 'అంశాలను', 'సుమోటోగా', 'స్వీకరించడం', 'ఫిర్యాదుల', 'రూపంలో', 'తీసుకునే', 'ఆర్జీలపై', 'తీర్పులు', 'వెలువరించిన', 'తీరు', 'వీటి', 'అమలులో', 'రాష్ట్ర', 'ప్రభుత్వాలు', 'ఎలా', 'వ్యవహరించాయనే', 'అంశంపై', 'ఇద్దరి', 'మధ్య', 'చర్చ', 'జరిగింది', 'మూడు', 'వాల్యూమ్\\u200cల', 'రిపోర్టులలో', 'ఏపీ', 'తెలంగాణ', 'ప్రభుత్వాలకు', 'చెరో', 'రిపోర్టు', 'కాగా', 'ఒకటి', 'గవర్నర్\\u200c', 'వద్దే', 'ఉంటుంది']\n"
     ]
    }
   ],
   "source": [
    "from indicnlp.tokenize import indic_tokenize\n",
    "\n",
    "# Function to tokenize Telugu text into words\n",
    "def tokenize_telugu_text(text):\n",
    "    # Tokenize into words\n",
    "    words = indic_tokenize.trivial_tokenize(text, lang='te')\n",
    "    return words\n",
    "\n",
    "# Example: Tokenize the cleaned Telugu text in the corpus\n",
    "tokenized_telugu_texts = [tokenize_telugu_text(text) for text in cleaned_telugu_texts]\n",
    "\n",
    "# Example: Print the tokenized text of the first document\n",
    "print(\"Example Tokenized Telugu Document:\")\n",
    "print(tokenized_telugu_texts[0])"
   ]
  },
  {
   "cell_type": "code",
   "execution_count": 7,
   "metadata": {},
   "outputs": [
    {
     "name": "stdout",
     "output_type": "stream",
     "text": [
      "1791526\n",
      "ఈ 15059\n",
      "నుంచి 11097\n",
      "రూ 7573\n",
      "చేశారు 6937\n",
      "కూడా 6086\n",
      "ఆంధ్రజ్యోతి 5635\n",
      "జిల్లా 5610\n",
      "ప్రభుత్వం 5403\n",
      "ఆ 5268\n",
      "హైదరాబాద్‌ 4938\n",
      "తెలిపారు 4808\n",
      "తెలంగాణ 4671\n",
      "కోసం 4381\n",
      "ఉన్న 4349\n",
      "మంత్రి 4327\n",
      "  4248\n",
      "రాష్ట్ర 4212\n",
      "ఆయన 4185\n",
      "అధికారులు 4154\n",
      "చెందిన 3934\n",
      "మంది 3810\n",
      "వరకు 3796\n",
      "సీఎం 3585\n",
      "కేసీఆర్‌ 3451\n",
      "ఏర్పాటు 3284\n",
      "ప్రభుత్వ 3072\n",
      "అన్నారు 2977\n",
      "అని 2968\n",
      "చేసిన 2901\n",
      "ఓ 2898\n",
      "దీంతో 2790\n",
      "రెండు 2790\n",
      "శాఖ 2779\n",
      "చేసి 2761\n",
      "చెప్పారు 2696\n",
      "పోలీసులు 2690\n",
      "వేల 2633\n",
      "ద్వారా 2538\n",
      "పాటు 2507\n",
      "మరో 2498\n",
      "లో 2485\n",
      "న 2457\n",
      "ఉంది 2430\n",
      "చేయాలని 2322\n",
      "లక్షల 2314\n",
      "కాగా 2204\n",
      "పార్టీ 2159\n",
      "వద్ద 2157\n",
      "శాతం 2146\n",
      "అయితే 2137\n",
      "మేరకు 2126\n",
      "లేదు 2086\n",
      "తన 2074\n",
      "ఒక 2044\n",
      "తమ 2039\n",
      "కాంగ్రెస్‌ 2028\n",
      "తర్వాత 1985\n",
      "మాట్లాడుతూ 1970\n",
      "చర్యలు 1927\n",
      "పనులు 1880\n",
      "పూర్తి 1869\n",
      "సమాచారం 1861\n",
      "మండలం 1844\n",
      "వారు 1833\n",
      "రాష్ట్రంలో 1813\n",
      "టీఆర్‌ఎస్‌ 1799\n",
      "మెట్రో 1767\n",
      "చేస్తున్నారు 1748\n",
      "కేంద్ర 1745\n",
      "ప్రధాన 1736\n",
      "వారి 1711\n",
      "ప్రత్యేక 1702\n",
      "అవకాశం 1702\n",
      "చేసింది 1696\n",
      "వచ్చే 1640\n",
      "సందర్భంగా 1605\n",
      "కోట్ల 1556\n",
      "అన్ని 1554\n",
      "కోట్లు 1552\n",
      "వ 1535\n",
      "కలిసి 1513\n",
      "పరిస్థితి 1503\n",
      "ఇతర 1486\n",
      "మూడు 1484\n",
      "ప్రస్తుతం 1475\n",
      "జరిగిన 1459\n",
      "ఏ 1454\n",
      "కొత్త 1445\n",
      "కానీ 1444\n",
      "వ్యక్తం 1441\n",
      "ప్రకారం 1437\n",
      "పలు 1435\n",
      "మంగళవారం 1429\n",
      "బుధవారం 1426\n",
      "జిల్లాలో 1424\n",
      "నెల 1421\n",
      "కార్యదర్శి 1420\n",
      "వచ్చిన 1414\n",
      "ఉన్నాయి 1395\n",
      "శుక్రవారం 1393\n",
      "0.15765051693360854\n"
     ]
    }
   ],
   "source": [
    "wordFrequency = {}\n",
    "totalWords = 0\n",
    "for words in tokenized_telugu_texts:\n",
    "    for word in words:\n",
    "        totalWords+=1\n",
    "        if word in wordFrequency:\n",
    "            wordFrequency[word] += 1\n",
    "        else:\n",
    "            wordFrequency[word] = 1\n",
    "\n",
    "keys = list(wordFrequency.keys())\n",
    "keys.sort(reverse=True, key=lambda word:wordFrequency[word])\n",
    "print(totalWords)\n",
    "top100 = 0\n",
    "for i in range(100):\n",
    "    top100 += wordFrequency[keys[i]]\n",
    "    print(keys[i], wordFrequency[keys[i]])\n",
    "print(top100/totalWords)"
   ]
  },
  {
   "cell_type": "code",
   "execution_count": 8,
   "metadata": {},
   "outputs": [
    {
     "name": "stdout",
     "output_type": "stream",
     "text": [
      "198626\n"
     ]
    }
   ],
   "source": [
    "print(len(keys))"
   ]
  },
  {
   "cell_type": "code",
   "execution_count": 9,
   "metadata": {},
   "outputs": [
    {
     "name": "stdout",
     "output_type": "stream",
     "text": [
      "ఈ 15059\n",
      "నుంచి 11097\n",
      "రూ 7573\n",
      "చేశారు 6937\n",
      "కూడా 6086\n",
      "ఆంధ్రజ్యోతి 5635\n",
      "జిల్లా 5610\n",
      "ప్రభుత్వం 5403\n",
      "ఆ 5268\n",
      "హైదరాబాద్‌ 4938\n",
      "తెలిపారు 4808\n",
      "తెలంగాణ 4671\n",
      "కోసం 4381\n",
      "ఉన్న 4349\n",
      "మంత్రి 4327\n",
      "  4248\n",
      "రాష్ట్ర 4212\n",
      "ఆయన 4185\n",
      "అధికారులు 4154\n",
      "చెందిన 3934\n",
      "మంది 3810\n",
      "వరకు 3796\n",
      "సీఎం 3585\n",
      "కేసీఆర్‌ 3451\n",
      "ఏర్పాటు 3284\n",
      "ప్రభుత్వ 3072\n",
      "అన్నారు 2977\n",
      "అని 2968\n",
      "చేసిన 2901\n",
      "ఓ 2898\n",
      "దీంతో 2790\n",
      "రెండు 2790\n",
      "శాఖ 2779\n",
      "చేసి 2761\n",
      "చెప్పారు 2696\n",
      "పోలీసులు 2690\n",
      "వేల 2633\n",
      "ద్వారా 2538\n",
      "పాటు 2507\n",
      "మరో 2498\n",
      "లో 2485\n",
      "న 2457\n",
      "ఉంది 2430\n",
      "చేయాలని 2322\n",
      "లక్షల 2314\n",
      "కాగా 2204\n",
      "పార్టీ 2159\n",
      "వద్ద 2157\n",
      "శాతం 2146\n",
      "అయితే 2137\n",
      "మేరకు 2126\n",
      "లేదు 2086\n",
      "తన 2074\n",
      "ఒక 2044\n",
      "తమ 2039\n",
      "కాంగ్రెస్‌ 2028\n",
      "తర్వాత 1985\n",
      "మాట్లాడుతూ 1970\n",
      "చర్యలు 1927\n",
      "పనులు 1880\n",
      "పూర్తి 1869\n",
      "సమాచారం 1861\n",
      "మండలం 1844\n",
      "వారు 1833\n",
      "రాష్ట్రంలో 1813\n",
      "టీఆర్‌ఎస్‌ 1799\n",
      "మెట్రో 1767\n",
      "చేస్తున్నారు 1748\n",
      "కేంద్ర 1745\n",
      "ప్రధాన 1736\n",
      "వారి 1711\n",
      "ప్రత్యేక 1702\n",
      "అవకాశం 1702\n",
      "చేసింది 1696\n",
      "వచ్చే 1640\n",
      "సందర్భంగా 1605\n",
      "కోట్ల 1556\n",
      "అన్ని 1554\n",
      "కోట్లు 1552\n",
      "వ 1535\n",
      "కలిసి 1513\n",
      "పరిస్థితి 1503\n",
      "ఇతర 1486\n",
      "మూడు 1484\n",
      "ప్రస్తుతం 1475\n",
      "జరిగిన 1459\n",
      "ఏ 1454\n",
      "కొత్త 1445\n",
      "కానీ 1444\n",
      "వ్యక్తం 1441\n",
      "ప్రకారం 1437\n",
      "పలు 1435\n",
      "మంగళవారం 1429\n",
      "బుధవారం 1426\n",
      "జిల్లాలో 1424\n",
      "నెల 1421\n",
      "కార్యదర్శి 1420\n",
      "వచ్చిన 1414\n",
      "ఉన్నాయి 1395\n",
      "శుక్రవారం 1393\n",
      "0.15765051693360854\n",
      "Example Tokenized Telugu Document (No Stopwords):\n",
      "['గవర్నర్\\u200cకు', 'లోకాయుక్త', 'నివేదిక', 'హైదరాబాద్\\u200c', 'జూలై', 'ఆంధ్రజ్యోతి', 'లోకాయుక్త', 'సంవత్సరపు', 'పనితీరు', 'విచారణ', 'జరిపిన', 'అంశాల', 'నివేదికను', 'తెలుగు', 'రాష్ట్రాల', 'గవర్నర్\\u200c', 'నరసింహన్\\u200cకు', 'సమర్పించారు', 'శుక్రవారం', 'గవర్నర్\\u200cను', 'తెలుగు', 'రాష్ట్రాల', 'లోకాయుక్త', 'జస్టిస్\\u200c', 'బి', 'సుభాషణ్\\u200cరెడ్డి', 'కలిసి', 'వ', 'నివేదికను', 'సమర్పించారు', 'ఏడాది', 'లోకాయుక్త', 'కార్యకలాపాలను', 'ఇందులో', 'పొందుపరిచారు', 'ప్రజాప్రయోజనాలు', 'దెబ్బతీసేలా', 'ప్రభుత్వాలు', 'తీసుకున్న', 'నిర్ణయాలపై', 'కథనాల', 'రూపంలో', 'అంశాలను', 'సుమోటోగా', 'స్వీకరించడం', 'ఫిర్యాదుల', 'రూపంలో', 'తీసుకునే', 'ఆర్జీలపై', 'తీర్పులు', 'వెలువరించిన', 'తీరు', 'వీటి', 'అమలులో', 'రాష్ట్ర', 'ప్రభుత్వాలు', 'వ్యవహరించాయనే', 'అంశంపై', 'ఇద్దరి', 'చర్చ', 'జరిగింది', 'వాల్యూమ్\\u200cల', 'రిపోర్టులలో', 'ఏపీ', 'తెలంగాణ', 'ప్రభుత్వాలకు', 'చెరో', 'రిపోర్టు', 'కాగా', 'ఒకటి', 'గవర్నర్\\u200c', 'వద్దే']\n"
     ]
    }
   ],
   "source": [
    "stopwords_telugu = ['\\xa0', \"గూర్చి\", \"గురించి\", \"చేత\", \"కొరకు\", \"వలన\", \"కంటే\", \"బట్టి\", \"నుండి\", \"యొక్క\", \n",
    "    \"లోపల\", \"ఓ\", \"ఒక\", \"మరియు\", \"కానీ\", \"లేదా\", \"వద్ద\", \"ద్వారా\", \"కోసం\", \"నా\", \n",
    "    \"నీ\", \"అతను\", \"అవను\", \"అది\", \"మనము\", \"మీ\", \"వారు\", \"మా\", \"ఉండు\", \"ఉంటుంది\",\n",
    "    \"పైన\", \"క్రింద\", \"ముందు\",\"తరువాత\", \"ముందుగ\", \"వెనుక\", \"చాలాదూరం\", \"దగ్గర\", \"బయట\", \"తో\",\n",
    "    \"లేక\", \"లేకుండ\", \"మధ్యలో\", \"కు\", \"ఏమి\", \"ఎవరు\", \"ఎందుకు\", \"ఇక్కడ\", \"నన్ను\", \"నీవు\" , \"అతనిని\", \"ఆమెను\", \"మమ్మల్ని\", \"వారిని\", \n",
    "    \"చేయడం\", \"కూడా\", \"మాత్రమే\", \"మరొక\", \"మళ్ళీ\", \"అందరూ\", \"కాదు\", \"తర్వాత\", \n",
    "    \"దాదాపు\", \"అయితే\", \"మధ్య\", \"ఉన్నారు\", \"ఎక్కడైనా\", \"ప్రకారం\", \"తగిన\", \"చుట్టూ\", \n",
    "    \"పై\", \"అడ్డంగా\", \"ఏ\", \"ఎవరైనా\", \"ఏదైనా\", \"ఏమైనప్పటికి\", \"ఎక్కడైనా\", \"ఈ\", \n",
    "    \"ఆ\", \"కూడా\", \"ఒక\", \"అని\", \"తన\", \"ఆయన\", \"మన\", \"అయితే\", \"తమ\", \"ప్రభుత్వం\", \"నుంచి\", \n",
    "    \"ఏ\", \"ఉన్న\", \"రెండు\", \"లేదు\", \"ఉంది\", \"చాలా\", \"వారు\", \"తర్వాత\", \"ఇది\", \"చేసిన\", \n",
    "    \"అనే\", \"కోసం\", \"వారి\", \"మాత్రం\", \"లో\", \"ఆ\", \"నుండి\", \"ఇలా\", \"నేను\", \"తరువాత\", \n",
    "    \"వచ్చిన\", \"జరిగిన\", \"మనం\", \"అంటూ\", \"గత\", \"అమెరికా\", \"చేశారు\", \"వంటి\", \"పార్టీ\", \n",
    "    \"వల్ల\", \"కాంగ్రెస్\", \"ఇక\", \"భారత\", \"ఎలా\", \"వారికి\", \"అదే\", \"చిన్న\", \"ప్రభుత్వ\", \n",
    "    \"ఇతర\", \"విధంగా\", \"విషయం\", \"చిత్రం\", \"జిల్లా\", \"మూడు\", \"ప్రస్తుతం\", \"ఎంత\", \"అవసరం\", \n",
    "    \"వుంది\", \"ఏర్పాటు\", \"కేంద్ర\", \"అలాగే\", \"చేసే\", \"అన్నాడు\",  \"కేవలం\", \"చేయడం\"]\n",
    "# stopwords_telugu = []\n",
    "top100 = 0\n",
    "for i in range(100):\n",
    "    top100 += wordFrequency[keys[i]]\n",
    "    print(keys[i], wordFrequency[keys[i]])\n",
    "print(top100/totalWords)\n",
    "\n",
    "\n",
    "def remove_stopwords(words):\n",
    "    return [word for word in words if word not in stopwords_telugu]\n",
    "\n",
    "# Example: Remove stopwords from the tokenized Telugu text\n",
    "tokenized_telugu_texts_no_stopwords = [remove_stopwords(words) for words in tokenized_telugu_texts]\n",
    "\n",
    "# Example: Print the tokenized text after stopword removal for the first document\n",
    "print(\"Example Tokenized Telugu Document (No Stopwords):\")\n",
    "print(tokenized_telugu_texts_no_stopwords[0])\n"
   ]
  },
  {
   "cell_type": "code",
   "execution_count": null,
   "metadata": {},
   "outputs": [
    {
     "name": "stdout",
     "output_type": "stream",
     "text": [
      "['అనుభూతిని', 'అర్థం', 'చేసుకోగలను', 'ముంబై', 'ఆస్ట్రేలియన్\\u200c', 'ఓపెన్\\u200c', 'ఫైనల్లో', 'తలపడే', 'సమయంలో', 'రోజర్\\u200c', 'ఫెడరర్\\u200c', 'నడాల్\\u200c', 'ఎదుర్కొన్న', 'అనుభూతిని', 'తాను', 'అర్థం', 'చేసుకోగలనని', 'దిగ్గజ', 'క్రికెటర్\\u200c', 'సచిన్\\u200c', 'టెండూల్కర్\\u200c', 'తాను', 'ఫైనల్\\u200c', 'మ్యాచ్\\u200cను', 'కొద్దికొద్దిగానే', 'చూసినా', 'వాళ్ల', 'ఇద్దరి', 'నెలకొన్న', 'ఉద్విగ్నభరిత', 'పరిస్థితిని', 'అర్థం', 'చేసుకోగలనని', 'చెప్పా', 'తుదిపోరులో', 'ఫెడరర్\\u200c', 'ఐదుసెట్లపాటు', 'పోరాడి', 'నడాల్\\u200cను', 'ఓడించిన', 'సంగతి', 'తెలిసిందే', '‘నా', 'కెరీర్\\u200cలో', 'చాలాసార్', 'గాయాలపాలయ్యా', 'కొన్ని', 'గడ్', 'పరిస్థితులనెదుర్కొన్నా', 'మీరెప్పు', 'రిటైరవుతారంటూ', 'సమయంలో', 'ప్రెస్\\u200c', 'కాన్ఫరెన్స్\\u200cలో', 'నాకో', 'ప్రశ్న', 'ఎదురైంది', 'బ్యాట్\\u200cతోనే', 'సమాధానం', 'చెప్పాను', 'జీవితంలో', 'మరచిపోలేని', 'అనుభవా', 'తర్వాతే', 'జరిగాయి', 'ఆసే్ట్రలియన్\\u200c', 'ఓపెన్\\u200c', 'ఫైనల్లో', 'ఆడేటప్పు', 'ఫెడరర్\\u200c', 'నడాల్\\u200c', 'ఎలాంటి', 'అనుభూతి', 'చెందారో', 'అర్థం', 'చేసుకోగలను', '\\xa0ఫైనల్లో', 'తలపడతామని', 'తామిద్దరిలో', 'ఎవరూ', 'అనుకోలేదని', 'మ్యాచ్\\u200c', 'అనంతరం', 'ఫెడరర్\\u200c', 'స్వయంగా', 'చెప్పాడ’ని', 'సచిన్\\u200c', 'గుర్తుచేశా', 'ఫెడరర్\\u200cకు', 'పెద్ద', 'అభిమాని', 'అయిన', 'సచిన్\\u200c', 'దిగ్గజాల', 'ఆటను', 'ఆస్వాదించానన్నా', '‘టెన్ని్\\u200cసకు', 'వాళ్', 'ఎంతో', 'మనమూ', 'ఆటను', 'ఎంజాయ్\\u200c', 'చేశాం', 'వాళ్ల', 'కెరీర్\\u200cలో', 'సాధించిన', 'గొప్ప', 'విజయాలకిది', 'కొనసాగింపు', 'వాళ్', 'అందించిన', 'మరచిపోలేని', 'అనుభూతు', 'మనతో', 'ఎప్పటికీ', 'ఉండిపోతాయి', 'నేనెప్పుడూ', 'ఫెడరర్\\u200cకు', 'వీరాభిమానిన’ని', 'టెండూల్కర్\\u200c', 'చెప్పా', 'బిజీ', 'షెడ్యూల్\\u200c', 'కారణంగా', 'మ్యాచ్\\u200cను', 'పూర్తిగా', 'వీక్షించలేకపోయానని', 'ఎయిర్\\u200cపోర్ట్\\u200c', 'లాంజ్\\u200cలో', 'కూర్చుని', 'మరీ', 'తుదిపోరును', 'కొద్దికొద్దిగా', 'చూశానని', 'టెండూల్కర్\\u200c', 'ఇద్దరు', 'దిగ్గజ', 'ప్లేయర్ల', 'పరిస్థితిని', 'తనకు', 'అన్వయించుకోవచ్చని', 'చెప్పుకొచ్చా']\n",
      "Stemming example: \n",
      "ఆక్షేపణలు ఆక్షేపణ\n",
      "నువ్వు నువ్\n",
      "చూడు చూ\n",
      "చేశాడు చేశా\n",
      "ప్రశ్నించాడు ప్రశ్నించా\n",
      "‘నీవు ‘నీ\n",
      "చేశాడు చేశా\n"
     ]
    }
   ],
   "source": [
    "import re\n",
    "\n",
    "def stemming(word):\n",
    "    # Define a list of common vibhakti suffixes\n",
    "    vibhakti_suffixes = ['లూ', 'పాలు', 'కనన', 'కి', 'థో',\" ాకా\", \"నంచ్ము\", \"ఘేన్\", \"లెని\", \"ఘా\", \"నండి\",\"పారంగ\",\n",
    "                            \"డు\", \"ము\", \"వు\", \"లు\", \"నిన్\", \"నున్\", \"లన్\", \"గూర్చి\", \"గురించి\"\n",
    "                            'చేతన్', 'చేన్', 'తోడన్', 'తోన్',\t\n",
    "                            'కొఱకున్' 'కొరకు', 'కై',\n",
    "                            'వలనన్', 'కంటెన్', 'పట్టి', 'నుండి',\n",
    "                            'కిన్', 'కున్', 'యొక్క', 'లోన్', 'లోపలన్',\n",
    "                            'అందున్', 'నన్',\n",
    "                            'ఓ', 'ఓరీ', 'ఓయీ', 'ఓసీ']  # Add more as needed\n",
    "\n",
    "    # Check if the word ends with any of the vibhakti suffixes and remove it\n",
    "    for suffix in vibhakti_suffixes:\n",
    "        if word.endswith(suffix):\n",
    "            return word[:-len(suffix)]\n",
    "\n",
    "    # If the word doesn't end with a known vibhakti suffix, return it as is\n",
    "    return word\n",
    "\n",
    "def stemmingSentences(words):\n",
    "    return [stemming(word) for word in words]\n",
    "\n",
    "\n",
    "stemmed_tokenized_telugu_texts_no_stopwords = [stemmingSentences(words) for words in tokenized_telugu_texts_no_stopwords]\n",
    "\n",
    "print(stemmed_tokenized_telugu_texts_no_stopwords[0])\n",
    "print(\"Stemming example: \")\n",
    "for i in range(len(stemmed_tokenized_telugu_texts_no_stopwords[1])):\n",
    "    if stemmed_tokenized_telugu_texts_no_stopwords[1][i] != tokenized_telugu_texts_no_stopwords[1][i]:\n",
    "        print(tokenized_telugu_texts_no_stopwords[1][i], stemmed_tokenized_telugu_texts_no_stopwords[1][i])"
   ]
  },
  {
   "cell_type": "code",
   "execution_count": null,
   "metadata": {},
   "outputs": [],
   "source": [
    "def create_ngrams(data, n):\n",
    "    ngrams = []\n",
    "    for i in range(len(data) - n + 1):\n",
    "        ngrams.append(tuple(data[i:i + n]))\n",
    "    return ngrams"
   ]
  },
  {
   "cell_type": "code",
   "execution_count": null,
   "metadata": {},
   "outputs": [],
   "source": [
    "bigrams = create_ngrams(stemmed_tokenized_telugu_texts_no_stopwords, 2)"
   ]
  },
  {
   "cell_type": "code",
   "execution_count": null,
   "metadata": {},
   "outputs": [],
   "source": [
    "from collections import defaultdict\n",
    "ngram_counts = defaultdict(int)\n",
    "context_counts = defaultdict(int)\n",
    "vocab = set()\n",
    "n = 2\n",
    "tokens = stemmed_tokenized_telugu_texts_no_stopwords\n",
    "for document in tokens:\n",
    "    for i in range(len(document) - n + 1):\n",
    "        ngram = tuple(document[i:i + n])\n",
    "        context = tuple(document[i:i + n - 1])\n",
    "        ngram_counts[ngram] += 1\n",
    "        context_counts[context] += 1\n",
    "        vocab.add(ngram[-1])"
   ]
  },
  {
   "cell_type": "code",
   "execution_count": null,
   "metadata": {},
   "outputs": [],
   "source": [
    "def laplace_smoothed_probability(ngram):\n",
    "    context = tuple(ngram[:-1])\n",
    "    numerator = ngram_counts[ngram] + 1\n",
    "    denominator = context_counts[context] + len(vocab)\n",
    "    probability = numerator / denominator\n",
    "    return probability"
   ]
  },
  {
   "cell_type": "code",
   "execution_count": null,
   "metadata": {},
   "outputs": [
    {
     "data": {
      "text/plain": [
       "0.0013975381827396355"
      ]
     },
     "execution_count": 34,
     "metadata": {},
     "output_type": "execute_result"
    }
   ],
   "source": [
    "laplace_smoothed_probability(('జూలై', 'ఆంధ్రజ్యోతి'))"
   ]
  },
  {
   "cell_type": "code",
   "execution_count": null,
   "metadata": {},
   "outputs": [],
   "source": [
    "def generate_next_word(n, seed_words):\n",
    "    context = tuple(seed_words[-(n - 1):])\n",
    "    candidates = [(word, laplace_smoothed_probability(context + (word,))) for word in vocab]\n",
    "    next_word = max(candidates, key=lambda x: x[1])[0]\n",
    "    return next_word\n",
    "\n",
    "def generate_sequence_given_seed(n, seed_words, length=5):\n",
    "    generated_sequence = seed_words.copy()\n",
    "    for _ in range(length):\n",
    "        next_word = generate_next_word(n, generated_sequence)\n",
    "        generated_sequence.append(next_word)\n",
    "    return generated_sequence"
   ]
  },
  {
   "cell_type": "code",
   "execution_count": null,
   "metadata": {},
   "outputs": [
    {
     "name": "stdout",
     "output_type": "stream",
     "text": [
      "విద్యుత్తు సరఫరా చేస్తున్నారు దీంతో పోలీసు కేసు నమోదు చేసి దర్యాప్తు చేస్తున్నారు దీంతో పోలీసు కేసు నమోదు చేసి దర్యాప్తు\n"
     ]
    }
   ],
   "source": [
    "print(\" \".join(generate_sequence_given_seed(n=2, seed_words=['విద్యుత్తు'], length=15)))"
   ]
  },
  {
   "cell_type": "code",
   "execution_count": null,
   "metadata": {},
   "outputs": [],
   "source": [
    "from collections import defaultdict\n",
    "ngram_counts = defaultdict(int)\n",
    "context_counts = defaultdict(int)\n",
    "vocab = set()\n",
    "n = 3\n",
    "tokens = stemmed_tokenized_telugu_texts_no_stopwords\n",
    "for document in tokens:\n",
    "    for i in range(len(document) - n + 1):\n",
    "        ngram = tuple(document[i:i + n])\n",
    "        context = tuple(document[i:i + n - 1])\n",
    "        ngram_counts[ngram] += 1\n",
    "        context_counts[context] += 1\n",
    "        vocab.add(ngram[-1])"
   ]
  },
  {
   "cell_type": "code",
   "execution_count": null,
   "metadata": {},
   "outputs": [
    {
     "name": "stdout",
     "output_type": "stream",
     "text": [
      "విద్యుత్తు నియంత్రణ మండలి యుఎస్‌ ఎఫ్‌డిఎ తుది ఆమోదం అందుకున్నట్ తెలిపింది ఆసా్ట్రజెనెకా ఫార్మాసుటికల్స్‌ మెర్రెమ్‌ ఇంజెక్షన్‌కు ఔషధం జెనరిక్‌ వెర్షన్‌ అయిన\n"
     ]
    }
   ],
   "source": [
    "print(\" \".join(generate_sequence_given_seed(n=3, seed_words=['విద్యుత్తు', 'నియంత్రణ'], length=15)))"
   ]
  },
  {
   "cell_type": "code",
   "execution_count": null,
   "metadata": {},
   "outputs": [],
   "source": [
    "from collections import defaultdict\n",
    "ngram_counts = defaultdict(int)\n",
    "context_counts = defaultdict(int)\n",
    "vocab = set()\n",
    "n = 4\n",
    "tokens = stemmed_tokenized_telugu_texts_no_stopwords\n",
    "for document in tokens:\n",
    "    for i in range(len(document) - n + 1):\n",
    "        ngram = tuple(document[i:i + n])\n",
    "        context = tuple(document[i:i + n - 1])\n",
    "        ngram_counts[ngram] += 1\n",
    "        context_counts[context] += 1\n",
    "        vocab.add(ngram[-1])"
   ]
  },
  {
   "cell_type": "code",
   "execution_count": null,
   "metadata": {},
   "outputs": [
    {
     "name": "stdout",
     "output_type": "stream",
     "text": [
      "జూవిద్యుత్తు నియంత్రణ మండలి    – ప్రథమావిభక్తి మల్ల ఎల్ల రావ కింది కులాలను అవమానించడాని పిలుస్తారో జ్యోతిబా రాయటం ఆయన్ని\n"
     ]
    }
   ],
   "source": [
    "test_data = (\" \".join(generate_sequence_given_seed(n=4, seed_words=['జూవిద్యుత్తు', 'నియంత్రణ', 'మండలి'], length=15)))\n",
    "print(test_data)"
   ]
  },
  {
   "cell_type": "code",
   "execution_count": null,
   "metadata": {},
   "outputs": [],
   "source": [
    "def calculate_perplexity(test_data, n, ngram_counts, context_counts):\n",
    "    total_prob = 1  # Initialize as 1 to avoid issues with multiplication\n",
    "    N = 0\n",
    "\n",
    "    # for document in test_data:\n",
    "    for i in range(len(test_data) - n + 1):\n",
    "        ngram = tuple(test_data[i:i + n])\n",
    "        total_prob *= laplace_smoothed_probability(ngram)\n",
    "        print(total_prob)\n",
    "        N += 1\n",
    "\n",
    "    perplexity = total_prob ** (-1 / N)\n",
    "    return perplexity"
   ]
  },
  {
   "cell_type": "code",
   "execution_count": null,
   "metadata": {},
   "outputs": [],
   "source": [
    "# print(calculate_perplexity(test_data, 4, ngram_counts, context_counts))"
   ]
  }
 ],
 "metadata": {
  "kernelspec": {
   "display_name": "venv",
   "language": "python",
   "name": "python3"
  },
  "language_info": {
   "codemirror_mode": {
    "name": "ipython",
    "version": 3
   },
   "file_extension": ".py",
   "mimetype": "text/x-python",
   "name": "python",
   "nbconvert_exporter": "python",
   "pygments_lexer": "ipython3",
   "version": "3.11.4"
  }
 },
 "nbformat": 4,
 "nbformat_minor": 2
}
